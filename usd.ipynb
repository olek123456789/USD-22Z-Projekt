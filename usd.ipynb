{
 "cells": [
  {
   "cell_type": "code",
   "execution_count": 1,
   "id": "45cefcff",
   "metadata": {},
   "outputs": [
    {
     "name": "stderr",
     "output_type": "stream",
     "text": [
      "/home/t/anaconda3/envs/t/lib/python3.7/site-packages/tqdm/auto.py:22: TqdmWarning: IProgress not found. Please update jupyter and ipywidgets. See https://ipywidgets.readthedocs.io/en/stable/user_install.html\n",
      "  from .autonotebook import tqdm as notebook_tqdm\n"
     ]
    }
   ],
   "source": [
    "import os\n",
    "import gym\n",
    "import math\n",
    "import argparse\n",
    "from stable_baselines3 import TD3\n",
    "from stable_baselines3.common import logger\n",
    "from stable_baselines3.common.env_util import make_vec_env\n",
    "from sklearn.model_selection import ParameterGrid"
   ]
  },
  {
   "cell_type": "code",
   "execution_count": 2,
   "id": "ab4c7983",
   "metadata": {},
   "outputs": [],
   "source": [
    "# Funkcja rozdzielająca listę komend na kilka list, aby można było poszczególne listy rozdzielić do plików\n",
    "def split_list(list_to_split, n_parts):\n",
    "    part_len = math.floor(len(list_to_split) / n_parts)\n",
    "    remainder = len(list_to_split) % n_parts\n",
    "    parts_index = []\n",
    "    \n",
    "    for i in range(n_parts):\n",
    "        parts_index.append([i*part_len, i*part_len+part_len])\n",
    "    \n",
    "    if remainder != 0:\n",
    "        parts_index[-1][1] = len(list_to_split)\n",
    "        \n",
    "    return [list_to_split[idx[0]:idx[1]] for idx in parts_index]"
   ]
  },
  {
   "cell_type": "markdown",
   "id": "236a6d8c",
   "metadata": {},
   "source": [
    "# W poniższych dwóch sekcjach zostały wygenerowane komendy do uruchomienia testów hiperparametrów"
   ]
  },
  {
   "cell_type": "markdown",
   "id": "0c5d3b0b",
   "metadata": {},
   "source": [
    "Poniższy kod generuje komendy do uruchomienia algorytmów TD3 i FastACER na obu środowiskach Mujoco i pybullet. Testy nie były uruchamiane sekwencyjnie ze względu na czas jaki zajmuje uruchomienie jednego testu. Komendy były uruchamiane po kilka na raz. Następnie przebieg uczenia był monitorowany przez panel tensorboard.\n",
    "\n",
    "Komendy były rozdzielone do kilku skryptów, a następnie skrypty zostały uruchomione jedocześnie."
   ]
  },
  {
   "cell_type": "markdown",
   "id": "215d045d",
   "metadata": {},
   "source": [
    "## TD3"
   ]
  },
  {
   "cell_type": "code",
   "execution_count": 3,
   "id": "31ae6a57",
   "metadata": {},
   "outputs": [],
   "source": [
    "params = {\n",
    "    'env_name': ['Walker2d-v3', 'Walker2DBulletEnv-v0'],\n",
    "    'learning_rate': ['0.0009', '0.001'],\n",
    "    'buffer_size': ['500_000', '1_000_000'],\n",
    "    'batch_size': ['80', '100'],\n",
    "    'gamma': ['0.99', '0.999'],\n",
    "}\n",
    "\n",
    "param_grid = ParameterGrid(params)\n",
    "param_grid = list(param_grid)\n",
    "param_grid_split = split_list(param_grid, 3)\n",
    "total_timesteps = 200_000\n",
    "\n",
    "for i in range(len(param_grid_split)):\n",
    "    param_grid_part = param_grid_split[i]\n",
    "    file = open(f'TD3_commands_{i}.sh', 'w')\n",
    "\n",
    "    for params in param_grid_part:\n",
    "        saved_name = \\\n",
    "            f'--env_name {params[\"env_name\"]} ' + \\\n",
    "            f'--learning_rate {params[\"learning_rate\"]} --buffer_size {params[\"buffer_size\"]} ' + \\\n",
    "            f'--batch_size {params[\"batch_size\"]} --gamma {params[\"gamma\"]} ' + \\\n",
    "            f'--total_timesteps {total_timesteps}'\n",
    "        file.write(f'python TD3.py {saved_name} &&\\n')\n",
    "\n",
    "    file.write('echo Optymalizacja skończona')\n",
    "    file.close()"
   ]
  },
  {
   "cell_type": "markdown",
   "id": "9fb52cbf",
   "metadata": {},
   "source": [
    "## FastACER"
   ]
  },
  {
   "cell_type": "code",
   "execution_count": 9,
   "id": "0da8982e",
   "metadata": {},
   "outputs": [],
   "source": [
    "params = {\n",
    "    'env_name': ['Walker2d-v3', 'Walker2DBulletEnv-v0'],\n",
    "    'gamma': ['0.99', '0.999'],\n",
    "    'actor_lr': ['0.001', '0.0011'],\n",
    "    'critic_lr': ['0.001', '0.0011'],\n",
    "    'memory_size': ['500_000', '1_000_000'],\n",
    "    'actor_layers': ['200'],\n",
    "    'critic_layers': ['200']\n",
    "}\n",
    "\n",
    "param_grid = ParameterGrid(params)\n",
    "param_grid = list(param_grid)\n",
    "param_grid_split = split_list(param_grid, 3)\n",
    "total_timesteps = 500_000\n",
    "\n",
    "for i in range(len(param_grid_split)):\n",
    "    param_grid_part = param_grid_split[i]\n",
    "    file = open(f'FastACER_commands_{i}.sh', 'w')\n",
    "\n",
    "    for params in param_grid_part:\n",
    "        file.write(\n",
    "            f'python acer/run.py --algo fastacer --env_name {params[\"env_name\"]} --no_checkpoint ' + \\\n",
    "            f'--evaluate_time_steps_interval 50000 --num_evaluation_runs 10 ' + \\\n",
    "            f'--max_time_steps {total_timesteps} ' + \\\n",
    "            f'--gamma {params[\"gamma\"]} --actor_lr {params[\"actor_lr\"]} --critic_lr {params[\"critic_lr\"]} ' + \\\n",
    "            f'--memory_size {params[\"memory_size\"]} ' + \\\n",
    "            f'--actor_layers {params[\"actor_layers\"]} {params[\"actor_layers\"]} ' + \\\n",
    "            f'--critic_layers {params[\"critic_layers\"]} {params[\"critic_layers\"]} &&\\n')\n",
    "\n",
    "    file.write('echo Optymalizacja skończona')\n",
    "    file.close()"
   ]
  }
 ],
 "metadata": {
  "kernelspec": {
   "display_name": "Python 3 (ipykernel)",
   "language": "python",
   "name": "python3"
  },
  "language_info": {
   "codemirror_mode": {
    "name": "ipython",
    "version": 3
   },
   "file_extension": ".py",
   "mimetype": "text/x-python",
   "name": "python",
   "nbconvert_exporter": "python",
   "pygments_lexer": "ipython3",
   "version": "3.7.15"
  }
 },
 "nbformat": 4,
 "nbformat_minor": 5
}
